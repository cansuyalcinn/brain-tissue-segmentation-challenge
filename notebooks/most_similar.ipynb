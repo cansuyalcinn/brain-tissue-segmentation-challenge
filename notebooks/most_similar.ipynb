{
 "cells": [
  {
   "attachments": {},
   "cell_type": "markdown",
   "metadata": {},
   "source": [
    "# Libraries"
   ]
  },
  {
   "cell_type": "code",
   "execution_count": 2,
   "metadata": {},
   "outputs": [
    {
     "name": "stderr",
     "output_type": "stream",
     "text": [
      "2023-01-07 16:55:06.207224: I tensorflow/core/platform/cpu_feature_guard.cc:193] This TensorFlow binary is optimized with oneAPI Deep Neural Network Library (oneDNN) to use the following CPU instructions in performance-critical operations:  AVX2 AVX512F AVX512_VNNI FMA\n",
      "To enable them in other operations, rebuild TensorFlow with the appropriate compiler flags.\n",
      "2023-01-07 16:55:06.439613: I tensorflow/core/util/port.cc:104] oneDNN custom operations are on. You may see slightly different numerical results due to floating-point round-off errors from different computation orders. To turn them off, set the environment variable `TF_ENABLE_ONEDNN_OPTS=0`.\n",
      "2023-01-07 16:55:06.474148: W tensorflow/compiler/xla/stream_executor/platform/default/dso_loader.cc:64] Could not load dynamic library 'libcudart.so.11.0'; dlerror: libcudart.so.11.0: cannot open shared object file: No such file or directory\n",
      "2023-01-07 16:55:06.474162: I tensorflow/compiler/xla/stream_executor/cuda/cudart_stub.cc:29] Ignore above cudart dlerror if you do not have a GPU set up on your machine.\n",
      "2023-01-07 16:55:07.240383: W tensorflow/compiler/xla/stream_executor/platform/default/dso_loader.cc:64] Could not load dynamic library 'libnvinfer.so.7'; dlerror: libnvinfer.so.7: cannot open shared object file: No such file or directory\n",
      "2023-01-07 16:55:07.240433: W tensorflow/compiler/xla/stream_executor/platform/default/dso_loader.cc:64] Could not load dynamic library 'libnvinfer_plugin.so.7'; dlerror: libnvinfer_plugin.so.7: cannot open shared object file: No such file or directory\n",
      "2023-01-07 16:55:07.240437: W tensorflow/compiler/tf2tensorrt/utils/py_utils.cc:38] TF-TRT Warning: Cannot dlopen some TensorRT libraries. If you would like to use Nvidia GPU with TensorRT, please make sure the missing libraries mentioned above are installed properly.\n"
     ]
    }
   ],
   "source": [
    "import os\n",
    "from pathlib import Path\n",
    "import numpy as np\n",
    "import SimpleITK as sitk\n",
    "import matplotlib.pyplot as plt\n",
    "from tqdm import tqdm\n",
    "import pickle\n",
    "import pandas as pd\n",
    "#For registration\n",
    "import voxelmorph as vxm\n",
    "import tensorflow as tf\n",
    "assert tf.__version__.startswith('2.'), 'This tutorial assumes Tensorflow 2.0+'\n",
    "#Own libraries\n",
    "from metadata import ImageDataset, patient\n",
    "import utils"
   ]
  },
  {
   "cell_type": "code",
   "execution_count": 3,
   "metadata": {},
   "outputs": [
    {
     "name": "stdout",
     "output_type": "stream",
     "text": [
      "The current directory is: /home/ricardino/Documents/MAIA/tercer_semestre/MISA/final_project/MISA_FINAL_PROJECT/notebooks\n"
     ]
    }
   ],
   "source": [
    "notebooks_path = Path.cwd()\n",
    "repo_path = notebooks_path.parent\n",
    "print(f'The current directory is: {notebooks_path}')"
   ]
  },
  {
   "attachments": {},
   "cell_type": "markdown",
   "metadata": {},
   "source": [
    "# MAIN"
   ]
  },
  {
   "attachments": {},
   "cell_type": "markdown",
   "metadata": {},
   "source": [
    "We want to register each training image to the validation images, individually.<br>\n",
    "\n",
    "Saving the registered images may help us save some time in the future, as we will use them for other applications.\n",
    "The question would be to decide which parameter file to use for the registration.\n",
    "Thankfully, there exists Voxelmorph which is a deep learning pretrained model that can be used for registration."
   ]
  },
  {
   "attachments": {},
   "cell_type": "markdown",
   "metadata": {},
   "source": [
    "## Voxelmorph"
   ]
  },
  {
   "cell_type": "code",
   "execution_count": 1,
   "metadata": {},
   "outputs": [],
   "source": [
    "def voxmorph_register(fixed_path:str, moving_path:str, label_path:str):\n",
    "    \"\"\"register moving image to fixed image using voxmorph, also register label image\n",
    "\n",
    "    Args:\n",
    "        fixed_path (str): fixed image path\n",
    "        moving_path (str): moving image path\n",
    "        label_path (str): moving image label path\n",
    "\n",
    "    Returns:\n",
    "        4 objs: moved image, moved label, warp, fixed image\n",
    "    \"\"\"\n",
    "\n",
    "    #load model\n",
    "    model_path = str(repo_path / 'data/voxelmorph/vxm_dense_brain_T1_3D_mse.h5')\n",
    "\n",
    "    # tensorflow device handling\n",
    "    device, nb_devices = vxm.tf.utils.setup_device()\n",
    "\n",
    "    # load moving, labels and fixed images\n",
    "    add_feat_axis = not False\n",
    "    moving = vxm.py.utils.load_volfile(moving_path, add_batch_axis=True, add_feat_axis=add_feat_axis)\n",
    "    label = vxm.py.utils.load_volfile(label_path, add_batch_axis=True, add_feat_axis=add_feat_axis)\n",
    "    #fill all background values to GM, value 2\n",
    "    label[label == 0] = 2\n",
    "    fixed, fixed_affine = vxm.py.utils.load_volfile( #fixed afine is basically the dimenionallity of the image\n",
    "        fixed_path, add_batch_axis=True, add_feat_axis=add_feat_axis, ret_affine=True)\n",
    "    \n",
    "    # shape\n",
    "    inshape = moving.shape[1:-1]\n",
    "    nb_feats = moving.shape[-1]\n",
    "\n",
    "    with tf.device(device):\n",
    "        # load configuration\n",
    "        config = dict(inshape=inshape, input_model=None)\n",
    "        #register and get warp\n",
    "        warp = vxm.networks.VxmDense.load(model_path, **config).register(moving, fixed)\n",
    "        #use warp on moving images and labels\n",
    "        moved = vxm.networks.Transform(inshape, nb_feats=nb_feats).predict([moving, warp])\n",
    "        moved_label = vxm.networks.Transform(inshape, nb_feats=nb_feats).predict([label, warp])\n",
    "        \n",
    "    #mask label using moved image\n",
    "    moved_label[moved==0] = 0\n",
    "    \n",
    "    return moved, moved_label, warp, fixed_affine\n",
    "\n",
    "\n",
    "def compute_maattesMI(moved_path:str, fixed_path:str):\n",
    "    \"\"\"Computes the Mattes mutual information between two images.\n",
    "\n",
    "    Args:\n",
    "        moved_path (str): path of moving image\n",
    "        fixed_path (str): path of fixed image\n",
    "\n",
    "    Returns:\n",
    "        float: metric value\n",
    "    \"\"\"\n",
    "    \n",
    "    img1 = sitk.ReadImage(moved_path)\n",
    "    img2 = sitk.ReadImage(fixed_path)\n",
    "    #change dtype of moved image to float 64\n",
    "    img1 = sitk.Cast(img1, sitk.sitkFloat64)\n",
    "\n",
    "    registration_method = sitk.ImageRegistrationMethod()\n",
    "    registration_method.SetMetricAsMattesMutualInformation()\n",
    "    metric = registration_method.MetricEvaluate(img1,img2)\n",
    "    \n",
    "    return metric"
   ]
  },
  {
   "cell_type": "code",
   "execution_count": null,
   "metadata": {},
   "outputs": [
    {
     "name": "stderr",
     "output_type": "stream",
     "text": [
      "  0%|          | 0/5 [00:00<?, ?it/s]/home/ricardino/anaconda3/envs/misa_final/lib/python3.9/site-packages/voxelmorph/tf/networks.py:124: UserWarning: int_downsize is deprecated, use the int_resolution parameter.\n",
      "  warnings.warn('int_downsize is deprecated, use the int_resolution parameter.')\n",
      "/home/ricardino/anaconda3/envs/misa_final/lib/python3.9/site-packages/voxelmorph/tf/networks.py:129: UserWarning: unet_half_res is deprecated, use the svf_resolution parameter.\n",
      "  warnings.warn('unet_half_res is deprecated, use the svf_resolution parameter.')\n"
     ]
    },
    {
     "name": "stdout",
     "output_type": "stream",
     "text": [
      "1/1 [==============================] - 4s 4s/step\n",
      "1/1 [==============================] - 1s 797ms/step\n",
      "1/1 [==============================] - 1s 773ms/step\n"
     ]
    },
    {
     "name": "stderr",
     "output_type": "stream",
     "text": [
      "/home/ricardino/anaconda3/envs/misa_final/lib/python3.9/site-packages/voxelmorph/tf/networks.py:124: UserWarning: int_downsize is deprecated, use the int_resolution parameter.\n",
      "  warnings.warn('int_downsize is deprecated, use the int_resolution parameter.')\n",
      "/home/ricardino/anaconda3/envs/misa_final/lib/python3.9/site-packages/voxelmorph/tf/networks.py:129: UserWarning: unet_half_res is deprecated, use the svf_resolution parameter.\n",
      "  warnings.warn('unet_half_res is deprecated, use the svf_resolution parameter.')\n"
     ]
    },
    {
     "name": "stdout",
     "output_type": "stream",
     "text": [
      "1/1 [==============================] - 4s 4s/step\n",
      "1/1 [==============================] - 1s 813ms/step\n",
      "1/1 [==============================] - 1s 816ms/step\n"
     ]
    },
    {
     "name": "stderr",
     "output_type": "stream",
     "text": [
      "/home/ricardino/anaconda3/envs/misa_final/lib/python3.9/site-packages/voxelmorph/tf/networks.py:124: UserWarning: int_downsize is deprecated, use the int_resolution parameter.\n",
      "  warnings.warn('int_downsize is deprecated, use the int_resolution parameter.')\n",
      "/home/ricardino/anaconda3/envs/misa_final/lib/python3.9/site-packages/voxelmorph/tf/networks.py:129: UserWarning: unet_half_res is deprecated, use the svf_resolution parameter.\n",
      "  warnings.warn('unet_half_res is deprecated, use the svf_resolution parameter.')\n"
     ]
    },
    {
     "name": "stdout",
     "output_type": "stream",
     "text": [
      "1/1 [==============================] - 4s 4s/step\n",
      "1/1 [==============================] - 1s 799ms/step\n",
      "1/1 [==============================] - 1s 807ms/step\n"
     ]
    },
    {
     "name": "stderr",
     "output_type": "stream",
     "text": [
      "/home/ricardino/anaconda3/envs/misa_final/lib/python3.9/site-packages/voxelmorph/tf/networks.py:124: UserWarning: int_downsize is deprecated, use the int_resolution parameter.\n",
      "  warnings.warn('int_downsize is deprecated, use the int_resolution parameter.')\n",
      "/home/ricardino/anaconda3/envs/misa_final/lib/python3.9/site-packages/voxelmorph/tf/networks.py:129: UserWarning: unet_half_res is deprecated, use the svf_resolution parameter.\n",
      "  warnings.warn('unet_half_res is deprecated, use the svf_resolution parameter.')\n"
     ]
    },
    {
     "name": "stdout",
     "output_type": "stream",
     "text": [
      "1/1 [==============================] - 4s 4s/step\n",
      "1/1 [==============================] - 1s 806ms/step\n",
      "1/1 [==============================] - 1s 789ms/step\n"
     ]
    },
    {
     "name": "stderr",
     "output_type": "stream",
     "text": [
      "/home/ricardino/anaconda3/envs/misa_final/lib/python3.9/site-packages/voxelmorph/tf/networks.py:124: UserWarning: int_downsize is deprecated, use the int_resolution parameter.\n",
      "  warnings.warn('int_downsize is deprecated, use the int_resolution parameter.')\n",
      "/home/ricardino/anaconda3/envs/misa_final/lib/python3.9/site-packages/voxelmorph/tf/networks.py:129: UserWarning: unet_half_res is deprecated, use the svf_resolution parameter.\n",
      "  warnings.warn('unet_half_res is deprecated, use the svf_resolution parameter.')\n"
     ]
    },
    {
     "name": "stdout",
     "output_type": "stream",
     "text": [
      "1/1 [==============================] - 4s 4s/step\n",
      "1/1 [==============================] - 1s 798ms/step\n",
      "1/1 [==============================] - 1s 790ms/step\n"
     ]
    },
    {
     "name": "stderr",
     "output_type": "stream",
     "text": [
      "/home/ricardino/anaconda3/envs/misa_final/lib/python3.9/site-packages/voxelmorph/tf/networks.py:124: UserWarning: int_downsize is deprecated, use the int_resolution parameter.\n",
      "  warnings.warn('int_downsize is deprecated, use the int_resolution parameter.')\n",
      "/home/ricardino/anaconda3/envs/misa_final/lib/python3.9/site-packages/voxelmorph/tf/networks.py:129: UserWarning: unet_half_res is deprecated, use the svf_resolution parameter.\n",
      "  warnings.warn('unet_half_res is deprecated, use the svf_resolution parameter.')\n"
     ]
    },
    {
     "name": "stdout",
     "output_type": "stream",
     "text": [
      "1/1 [==============================] - 4s 4s/step\n",
      "1/1 [==============================] - 1s 772ms/step\n",
      "1/1 [==============================] - 1s 759ms/step\n"
     ]
    },
    {
     "name": "stderr",
     "output_type": "stream",
     "text": [
      "/home/ricardino/anaconda3/envs/misa_final/lib/python3.9/site-packages/voxelmorph/tf/networks.py:124: UserWarning: int_downsize is deprecated, use the int_resolution parameter.\n",
      "  warnings.warn('int_downsize is deprecated, use the int_resolution parameter.')\n",
      "/home/ricardino/anaconda3/envs/misa_final/lib/python3.9/site-packages/voxelmorph/tf/networks.py:129: UserWarning: unet_half_res is deprecated, use the svf_resolution parameter.\n",
      "  warnings.warn('unet_half_res is deprecated, use the svf_resolution parameter.')\n"
     ]
    },
    {
     "name": "stdout",
     "output_type": "stream",
     "text": [
      "1/1 [==============================] - 4s 4s/step\n",
      "1/1 [==============================] - 1s 788ms/step\n",
      "1/1 [==============================] - 1s 771ms/step\n"
     ]
    },
    {
     "name": "stderr",
     "output_type": "stream",
     "text": [
      "/home/ricardino/anaconda3/envs/misa_final/lib/python3.9/site-packages/voxelmorph/tf/networks.py:124: UserWarning: int_downsize is deprecated, use the int_resolution parameter.\n",
      "  warnings.warn('int_downsize is deprecated, use the int_resolution parameter.')\n",
      "/home/ricardino/anaconda3/envs/misa_final/lib/python3.9/site-packages/voxelmorph/tf/networks.py:129: UserWarning: unet_half_res is deprecated, use the svf_resolution parameter.\n",
      "  warnings.warn('unet_half_res is deprecated, use the svf_resolution parameter.')\n"
     ]
    },
    {
     "name": "stdout",
     "output_type": "stream",
     "text": [
      "1/1 [==============================] - 4s 4s/step\n",
      "1/1 [==============================] - 1s 783ms/step\n",
      "1/1 [==============================] - 1s 813ms/step\n"
     ]
    },
    {
     "name": "stderr",
     "output_type": "stream",
     "text": [
      "/home/ricardino/anaconda3/envs/misa_final/lib/python3.9/site-packages/voxelmorph/tf/networks.py:124: UserWarning: int_downsize is deprecated, use the int_resolution parameter.\n",
      "  warnings.warn('int_downsize is deprecated, use the int_resolution parameter.')\n",
      "/home/ricardino/anaconda3/envs/misa_final/lib/python3.9/site-packages/voxelmorph/tf/networks.py:129: UserWarning: unet_half_res is deprecated, use the svf_resolution parameter.\n",
      "  warnings.warn('unet_half_res is deprecated, use the svf_resolution parameter.')\n"
     ]
    },
    {
     "name": "stdout",
     "output_type": "stream",
     "text": [
      "1/1 [==============================] - 4s 4s/step\n",
      "1/1 [==============================] - 1s 780ms/step\n",
      "1/1 [==============================] - 1s 789ms/step\n"
     ]
    },
    {
     "name": "stderr",
     "output_type": "stream",
     "text": [
      "/home/ricardino/anaconda3/envs/misa_final/lib/python3.9/site-packages/voxelmorph/tf/networks.py:124: UserWarning: int_downsize is deprecated, use the int_resolution parameter.\n",
      "  warnings.warn('int_downsize is deprecated, use the int_resolution parameter.')\n",
      "/home/ricardino/anaconda3/envs/misa_final/lib/python3.9/site-packages/voxelmorph/tf/networks.py:129: UserWarning: unet_half_res is deprecated, use the svf_resolution parameter.\n",
      "  warnings.warn('unet_half_res is deprecated, use the svf_resolution parameter.')\n"
     ]
    },
    {
     "name": "stdout",
     "output_type": "stream",
     "text": [
      "1/1 [==============================] - 4s 4s/step\n",
      "1/1 [==============================] - 1s 776ms/step\n",
      "1/1 [==============================] - 1s 779ms/step\n"
     ]
    },
    {
     "name": "stderr",
     "output_type": "stream",
     "text": [
      "100%|██████████| 10/10 [01:36<00:00,  9.63s/it]\n",
      " 20%|██        | 1/5 [01:36<06:25, 96.35s/it]/home/ricardino/anaconda3/envs/misa_final/lib/python3.9/site-packages/voxelmorph/tf/networks.py:124: UserWarning: int_downsize is deprecated, use the int_resolution parameter.\n",
      "  warnings.warn('int_downsize is deprecated, use the int_resolution parameter.')\n",
      "/home/ricardino/anaconda3/envs/misa_final/lib/python3.9/site-packages/voxelmorph/tf/networks.py:129: UserWarning: unet_half_res is deprecated, use the svf_resolution parameter.\n",
      "  warnings.warn('unet_half_res is deprecated, use the svf_resolution parameter.')\n"
     ]
    },
    {
     "name": "stdout",
     "output_type": "stream",
     "text": [
      "1/1 [==============================] - 4s 4s/step\n",
      "1/1 [==============================] - 1s 786ms/step\n",
      "1/1 [==============================] - 1s 766ms/step\n"
     ]
    },
    {
     "name": "stderr",
     "output_type": "stream",
     "text": [
      "/home/ricardino/anaconda3/envs/misa_final/lib/python3.9/site-packages/voxelmorph/tf/networks.py:124: UserWarning: int_downsize is deprecated, use the int_resolution parameter.\n",
      "  warnings.warn('int_downsize is deprecated, use the int_resolution parameter.')\n",
      "/home/ricardino/anaconda3/envs/misa_final/lib/python3.9/site-packages/voxelmorph/tf/networks.py:129: UserWarning: unet_half_res is deprecated, use the svf_resolution parameter.\n",
      "  warnings.warn('unet_half_res is deprecated, use the svf_resolution parameter.')\n"
     ]
    },
    {
     "name": "stdout",
     "output_type": "stream",
     "text": [
      "1/1 [==============================] - 4s 4s/step\n",
      "1/1 [==============================] - 1s 764ms/step\n",
      "1/1 [==============================] - 1s 765ms/step\n"
     ]
    },
    {
     "name": "stderr",
     "output_type": "stream",
     "text": [
      "/home/ricardino/anaconda3/envs/misa_final/lib/python3.9/site-packages/voxelmorph/tf/networks.py:124: UserWarning: int_downsize is deprecated, use the int_resolution parameter.\n",
      "  warnings.warn('int_downsize is deprecated, use the int_resolution parameter.')\n",
      "/home/ricardino/anaconda3/envs/misa_final/lib/python3.9/site-packages/voxelmorph/tf/networks.py:129: UserWarning: unet_half_res is deprecated, use the svf_resolution parameter.\n",
      "  warnings.warn('unet_half_res is deprecated, use the svf_resolution parameter.')\n"
     ]
    },
    {
     "name": "stdout",
     "output_type": "stream",
     "text": [
      "1/1 [==============================] - 4s 4s/step\n",
      "1/1 [==============================] - 1s 797ms/step\n",
      "1/1 [==============================] - 1s 774ms/step\n"
     ]
    },
    {
     "name": "stderr",
     "output_type": "stream",
     "text": [
      "/home/ricardino/anaconda3/envs/misa_final/lib/python3.9/site-packages/voxelmorph/tf/networks.py:124: UserWarning: int_downsize is deprecated, use the int_resolution parameter.\n",
      "  warnings.warn('int_downsize is deprecated, use the int_resolution parameter.')\n",
      "/home/ricardino/anaconda3/envs/misa_final/lib/python3.9/site-packages/voxelmorph/tf/networks.py:129: UserWarning: unet_half_res is deprecated, use the svf_resolution parameter.\n",
      "  warnings.warn('unet_half_res is deprecated, use the svf_resolution parameter.')\n"
     ]
    },
    {
     "name": "stdout",
     "output_type": "stream",
     "text": [
      "1/1 [==============================] - 4s 4s/step\n",
      "1/1 [==============================] - 1s 755ms/step\n",
      "1/1 [==============================] - 1s 772ms/step\n"
     ]
    },
    {
     "name": "stderr",
     "output_type": "stream",
     "text": [
      "/home/ricardino/anaconda3/envs/misa_final/lib/python3.9/site-packages/voxelmorph/tf/networks.py:124: UserWarning: int_downsize is deprecated, use the int_resolution parameter.\n",
      "  warnings.warn('int_downsize is deprecated, use the int_resolution parameter.')\n",
      "/home/ricardino/anaconda3/envs/misa_final/lib/python3.9/site-packages/voxelmorph/tf/networks.py:129: UserWarning: unet_half_res is deprecated, use the svf_resolution parameter.\n",
      "  warnings.warn('unet_half_res is deprecated, use the svf_resolution parameter.')\n"
     ]
    },
    {
     "name": "stdout",
     "output_type": "stream",
     "text": [
      "1/1 [==============================] - 5s 5s/step\n",
      "1/1 [==============================] - 1s 796ms/step\n",
      "1/1 [==============================] - 1s 790ms/step\n"
     ]
    },
    {
     "name": "stderr",
     "output_type": "stream",
     "text": [
      "/home/ricardino/anaconda3/envs/misa_final/lib/python3.9/site-packages/voxelmorph/tf/networks.py:124: UserWarning: int_downsize is deprecated, use the int_resolution parameter.\n",
      "  warnings.warn('int_downsize is deprecated, use the int_resolution parameter.')\n",
      "/home/ricardino/anaconda3/envs/misa_final/lib/python3.9/site-packages/voxelmorph/tf/networks.py:129: UserWarning: unet_half_res is deprecated, use the svf_resolution parameter.\n",
      "  warnings.warn('unet_half_res is deprecated, use the svf_resolution parameter.')\n"
     ]
    },
    {
     "name": "stdout",
     "output_type": "stream",
     "text": [
      "1/1 [==============================] - 4s 4s/step\n",
      "1/1 [==============================] - 1s 791ms/step\n",
      "1/1 [==============================] - 1s 771ms/step\n"
     ]
    },
    {
     "name": "stderr",
     "output_type": "stream",
     "text": [
      "/home/ricardino/anaconda3/envs/misa_final/lib/python3.9/site-packages/voxelmorph/tf/networks.py:124: UserWarning: int_downsize is deprecated, use the int_resolution parameter.\n",
      "  warnings.warn('int_downsize is deprecated, use the int_resolution parameter.')\n",
      "/home/ricardino/anaconda3/envs/misa_final/lib/python3.9/site-packages/voxelmorph/tf/networks.py:129: UserWarning: unet_half_res is deprecated, use the svf_resolution parameter.\n",
      "  warnings.warn('unet_half_res is deprecated, use the svf_resolution parameter.')\n"
     ]
    },
    {
     "name": "stdout",
     "output_type": "stream",
     "text": [
      "1/1 [==============================] - 4s 4s/step\n",
      "1/1 [==============================] - 1s 782ms/step\n",
      "1/1 [==============================] - 1s 778ms/step\n"
     ]
    },
    {
     "name": "stderr",
     "output_type": "stream",
     "text": [
      "/home/ricardino/anaconda3/envs/misa_final/lib/python3.9/site-packages/voxelmorph/tf/networks.py:124: UserWarning: int_downsize is deprecated, use the int_resolution parameter.\n",
      "  warnings.warn('int_downsize is deprecated, use the int_resolution parameter.')\n",
      "/home/ricardino/anaconda3/envs/misa_final/lib/python3.9/site-packages/voxelmorph/tf/networks.py:129: UserWarning: unet_half_res is deprecated, use the svf_resolution parameter.\n",
      "  warnings.warn('unet_half_res is deprecated, use the svf_resolution parameter.')\n"
     ]
    },
    {
     "name": "stdout",
     "output_type": "stream",
     "text": [
      "1/1 [==============================] - 4s 4s/step\n",
      "1/1 [==============================] - 1s 767ms/step\n",
      "1/1 [==============================] - 1s 762ms/step\n"
     ]
    },
    {
     "name": "stderr",
     "output_type": "stream",
     "text": [
      "/home/ricardino/anaconda3/envs/misa_final/lib/python3.9/site-packages/voxelmorph/tf/networks.py:124: UserWarning: int_downsize is deprecated, use the int_resolution parameter.\n",
      "  warnings.warn('int_downsize is deprecated, use the int_resolution parameter.')\n",
      "/home/ricardino/anaconda3/envs/misa_final/lib/python3.9/site-packages/voxelmorph/tf/networks.py:129: UserWarning: unet_half_res is deprecated, use the svf_resolution parameter.\n",
      "  warnings.warn('unet_half_res is deprecated, use the svf_resolution parameter.')\n"
     ]
    },
    {
     "name": "stdout",
     "output_type": "stream",
     "text": [
      "1/1 [==============================] - 4s 4s/step\n",
      "1/1 [==============================] - 1s 784ms/step\n",
      "1/1 [==============================] - 1s 772ms/step\n"
     ]
    },
    {
     "name": "stderr",
     "output_type": "stream",
     "text": [
      "/home/ricardino/anaconda3/envs/misa_final/lib/python3.9/site-packages/voxelmorph/tf/networks.py:124: UserWarning: int_downsize is deprecated, use the int_resolution parameter.\n",
      "  warnings.warn('int_downsize is deprecated, use the int_resolution parameter.')\n",
      "/home/ricardino/anaconda3/envs/misa_final/lib/python3.9/site-packages/voxelmorph/tf/networks.py:129: UserWarning: unet_half_res is deprecated, use the svf_resolution parameter.\n",
      "  warnings.warn('unet_half_res is deprecated, use the svf_resolution parameter.')\n"
     ]
    },
    {
     "name": "stdout",
     "output_type": "stream",
     "text": [
      "1/1 [==============================] - 4s 4s/step\n",
      "1/1 [==============================] - 1s 771ms/step\n",
      "1/1 [==============================] - 1s 787ms/step\n"
     ]
    },
    {
     "name": "stderr",
     "output_type": "stream",
     "text": [
      "100%|██████████| 10/10 [01:32<00:00,  9.30s/it]\n",
      " 40%|████      | 2/5 [03:09<04:43, 94.35s/it]/home/ricardino/anaconda3/envs/misa_final/lib/python3.9/site-packages/voxelmorph/tf/networks.py:124: UserWarning: int_downsize is deprecated, use the int_resolution parameter.\n",
      "  warnings.warn('int_downsize is deprecated, use the int_resolution parameter.')\n",
      "/home/ricardino/anaconda3/envs/misa_final/lib/python3.9/site-packages/voxelmorph/tf/networks.py:129: UserWarning: unet_half_res is deprecated, use the svf_resolution parameter.\n",
      "  warnings.warn('unet_half_res is deprecated, use the svf_resolution parameter.')\n"
     ]
    },
    {
     "name": "stdout",
     "output_type": "stream",
     "text": [
      "1/1 [==============================] - 4s 4s/step\n",
      "1/1 [==============================] - 1s 760ms/step\n",
      "1/1 [==============================] - 1s 769ms/step\n"
     ]
    },
    {
     "name": "stderr",
     "output_type": "stream",
     "text": [
      "/home/ricardino/anaconda3/envs/misa_final/lib/python3.9/site-packages/voxelmorph/tf/networks.py:124: UserWarning: int_downsize is deprecated, use the int_resolution parameter.\n",
      "  warnings.warn('int_downsize is deprecated, use the int_resolution parameter.')\n",
      "/home/ricardino/anaconda3/envs/misa_final/lib/python3.9/site-packages/voxelmorph/tf/networks.py:129: UserWarning: unet_half_res is deprecated, use the svf_resolution parameter.\n",
      "  warnings.warn('unet_half_res is deprecated, use the svf_resolution parameter.')\n"
     ]
    },
    {
     "name": "stdout",
     "output_type": "stream",
     "text": [
      "1/1 [==============================] - 4s 4s/step\n",
      "1/1 [==============================] - 1s 760ms/step\n",
      "1/1 [==============================] - 1s 790ms/step\n"
     ]
    },
    {
     "name": "stderr",
     "output_type": "stream",
     "text": [
      "/home/ricardino/anaconda3/envs/misa_final/lib/python3.9/site-packages/voxelmorph/tf/networks.py:124: UserWarning: int_downsize is deprecated, use the int_resolution parameter.\n",
      "  warnings.warn('int_downsize is deprecated, use the int_resolution parameter.')\n",
      "/home/ricardino/anaconda3/envs/misa_final/lib/python3.9/site-packages/voxelmorph/tf/networks.py:129: UserWarning: unet_half_res is deprecated, use the svf_resolution parameter.\n",
      "  warnings.warn('unet_half_res is deprecated, use the svf_resolution parameter.')\n"
     ]
    },
    {
     "name": "stdout",
     "output_type": "stream",
     "text": [
      "1/1 [==============================] - 4s 4s/step\n",
      "1/1 [==============================] - 1s 768ms/step\n",
      "1/1 [==============================] - 1s 784ms/step\n"
     ]
    },
    {
     "name": "stderr",
     "output_type": "stream",
     "text": [
      "/home/ricardino/anaconda3/envs/misa_final/lib/python3.9/site-packages/voxelmorph/tf/networks.py:124: UserWarning: int_downsize is deprecated, use the int_resolution parameter.\n",
      "  warnings.warn('int_downsize is deprecated, use the int_resolution parameter.')\n",
      "/home/ricardino/anaconda3/envs/misa_final/lib/python3.9/site-packages/voxelmorph/tf/networks.py:129: UserWarning: unet_half_res is deprecated, use the svf_resolution parameter.\n",
      "  warnings.warn('unet_half_res is deprecated, use the svf_resolution parameter.')\n"
     ]
    },
    {
     "name": "stdout",
     "output_type": "stream",
     "text": [
      "1/1 [==============================] - 4s 4s/step\n",
      "1/1 [==============================] - 1s 779ms/step\n",
      "1/1 [==============================] - 1s 768ms/step\n"
     ]
    },
    {
     "name": "stderr",
     "output_type": "stream",
     "text": [
      "/home/ricardino/anaconda3/envs/misa_final/lib/python3.9/site-packages/voxelmorph/tf/networks.py:124: UserWarning: int_downsize is deprecated, use the int_resolution parameter.\n",
      "  warnings.warn('int_downsize is deprecated, use the int_resolution parameter.')\n",
      "/home/ricardino/anaconda3/envs/misa_final/lib/python3.9/site-packages/voxelmorph/tf/networks.py:129: UserWarning: unet_half_res is deprecated, use the svf_resolution parameter.\n",
      "  warnings.warn('unet_half_res is deprecated, use the svf_resolution parameter.')\n"
     ]
    },
    {
     "name": "stdout",
     "output_type": "stream",
     "text": [
      "1/1 [==============================] - 4s 4s/step\n",
      "1/1 [==============================] - 1s 779ms/step\n",
      "1/1 [==============================] - 1s 763ms/step\n"
     ]
    },
    {
     "name": "stderr",
     "output_type": "stream",
     "text": [
      "/home/ricardino/anaconda3/envs/misa_final/lib/python3.9/site-packages/voxelmorph/tf/networks.py:124: UserWarning: int_downsize is deprecated, use the int_resolution parameter.\n",
      "  warnings.warn('int_downsize is deprecated, use the int_resolution parameter.')\n",
      "/home/ricardino/anaconda3/envs/misa_final/lib/python3.9/site-packages/voxelmorph/tf/networks.py:129: UserWarning: unet_half_res is deprecated, use the svf_resolution parameter.\n",
      "  warnings.warn('unet_half_res is deprecated, use the svf_resolution parameter.')\n"
     ]
    },
    {
     "name": "stdout",
     "output_type": "stream",
     "text": [
      "1/1 [==============================] - 4s 4s/step\n",
      "1/1 [==============================] - 1s 790ms/step\n",
      "1/1 [==============================] - 1s 759ms/step\n"
     ]
    },
    {
     "name": "stderr",
     "output_type": "stream",
     "text": [
      "/home/ricardino/anaconda3/envs/misa_final/lib/python3.9/site-packages/voxelmorph/tf/networks.py:124: UserWarning: int_downsize is deprecated, use the int_resolution parameter.\n",
      "  warnings.warn('int_downsize is deprecated, use the int_resolution parameter.')\n",
      "/home/ricardino/anaconda3/envs/misa_final/lib/python3.9/site-packages/voxelmorph/tf/networks.py:129: UserWarning: unet_half_res is deprecated, use the svf_resolution parameter.\n",
      "  warnings.warn('unet_half_res is deprecated, use the svf_resolution parameter.')\n"
     ]
    },
    {
     "name": "stdout",
     "output_type": "stream",
     "text": [
      "1/1 [==============================] - 4s 4s/step\n",
      "1/1 [==============================] - 1s 764ms/step\n",
      "1/1 [==============================] - 1s 764ms/step\n"
     ]
    },
    {
     "name": "stderr",
     "output_type": "stream",
     "text": [
      "/home/ricardino/anaconda3/envs/misa_final/lib/python3.9/site-packages/voxelmorph/tf/networks.py:124: UserWarning: int_downsize is deprecated, use the int_resolution parameter.\n",
      "  warnings.warn('int_downsize is deprecated, use the int_resolution parameter.')\n",
      "/home/ricardino/anaconda3/envs/misa_final/lib/python3.9/site-packages/voxelmorph/tf/networks.py:129: UserWarning: unet_half_res is deprecated, use the svf_resolution parameter.\n",
      "  warnings.warn('unet_half_res is deprecated, use the svf_resolution parameter.')\n"
     ]
    },
    {
     "name": "stdout",
     "output_type": "stream",
     "text": [
      "1/1 [==============================] - 4s 4s/step\n",
      "1/1 [==============================] - 1s 771ms/step\n",
      "1/1 [==============================] - 1s 769ms/step\n"
     ]
    },
    {
     "name": "stderr",
     "output_type": "stream",
     "text": [
      "/home/ricardino/anaconda3/envs/misa_final/lib/python3.9/site-packages/voxelmorph/tf/networks.py:124: UserWarning: int_downsize is deprecated, use the int_resolution parameter.\n",
      "  warnings.warn('int_downsize is deprecated, use the int_resolution parameter.')\n",
      "/home/ricardino/anaconda3/envs/misa_final/lib/python3.9/site-packages/voxelmorph/tf/networks.py:129: UserWarning: unet_half_res is deprecated, use the svf_resolution parameter.\n",
      "  warnings.warn('unet_half_res is deprecated, use the svf_resolution parameter.')\n"
     ]
    },
    {
     "name": "stdout",
     "output_type": "stream",
     "text": [
      "1/1 [==============================] - 5s 5s/step\n",
      "1/1 [==============================] - 1s 808ms/step\n",
      "1/1 [==============================] - 1s 771ms/step\n"
     ]
    },
    {
     "name": "stderr",
     "output_type": "stream",
     "text": [
      "/home/ricardino/anaconda3/envs/misa_final/lib/python3.9/site-packages/voxelmorph/tf/networks.py:124: UserWarning: int_downsize is deprecated, use the int_resolution parameter.\n",
      "  warnings.warn('int_downsize is deprecated, use the int_resolution parameter.')\n",
      "/home/ricardino/anaconda3/envs/misa_final/lib/python3.9/site-packages/voxelmorph/tf/networks.py:129: UserWarning: unet_half_res is deprecated, use the svf_resolution parameter.\n",
      "  warnings.warn('unet_half_res is deprecated, use the svf_resolution parameter.')\n"
     ]
    },
    {
     "name": "stdout",
     "output_type": "stream",
     "text": [
      "1/1 [==============================] - 4s 4s/step\n",
      "1/1 [==============================] - 1s 777ms/step\n",
      "1/1 [==============================] - 1s 777ms/step\n"
     ]
    },
    {
     "name": "stderr",
     "output_type": "stream",
     "text": [
      "100%|██████████| 10/10 [01:34<00:00,  9.43s/it]\n",
      " 60%|██████    | 3/5 [04:43<03:08, 94.32s/it]/home/ricardino/anaconda3/envs/misa_final/lib/python3.9/site-packages/voxelmorph/tf/networks.py:124: UserWarning: int_downsize is deprecated, use the int_resolution parameter.\n",
      "  warnings.warn('int_downsize is deprecated, use the int_resolution parameter.')\n",
      "/home/ricardino/anaconda3/envs/misa_final/lib/python3.9/site-packages/voxelmorph/tf/networks.py:129: UserWarning: unet_half_res is deprecated, use the svf_resolution parameter.\n",
      "  warnings.warn('unet_half_res is deprecated, use the svf_resolution parameter.')\n"
     ]
    },
    {
     "name": "stdout",
     "output_type": "stream",
     "text": [
      "1/1 [==============================] - 4s 4s/step\n",
      "1/1 [==============================] - 1s 768ms/step\n",
      "1/1 [==============================] - 1s 762ms/step\n"
     ]
    },
    {
     "name": "stderr",
     "output_type": "stream",
     "text": [
      "/home/ricardino/anaconda3/envs/misa_final/lib/python3.9/site-packages/voxelmorph/tf/networks.py:124: UserWarning: int_downsize is deprecated, use the int_resolution parameter.\n",
      "  warnings.warn('int_downsize is deprecated, use the int_resolution parameter.')\n",
      "/home/ricardino/anaconda3/envs/misa_final/lib/python3.9/site-packages/voxelmorph/tf/networks.py:129: UserWarning: unet_half_res is deprecated, use the svf_resolution parameter.\n",
      "  warnings.warn('unet_half_res is deprecated, use the svf_resolution parameter.')\n"
     ]
    },
    {
     "name": "stdout",
     "output_type": "stream",
     "text": [
      "1/1 [==============================] - 4s 4s/step\n",
      "1/1 [==============================] - 1s 749ms/step\n",
      "1/1 [==============================] - 1s 765ms/step\n"
     ]
    },
    {
     "name": "stderr",
     "output_type": "stream",
     "text": [
      "/home/ricardino/anaconda3/envs/misa_final/lib/python3.9/site-packages/voxelmorph/tf/networks.py:124: UserWarning: int_downsize is deprecated, use the int_resolution parameter.\n",
      "  warnings.warn('int_downsize is deprecated, use the int_resolution parameter.')\n",
      "/home/ricardino/anaconda3/envs/misa_final/lib/python3.9/site-packages/voxelmorph/tf/networks.py:129: UserWarning: unet_half_res is deprecated, use the svf_resolution parameter.\n",
      "  warnings.warn('unet_half_res is deprecated, use the svf_resolution parameter.')\n"
     ]
    },
    {
     "name": "stdout",
     "output_type": "stream",
     "text": [
      "1/1 [==============================] - 4s 4s/step\n",
      "1/1 [==============================] - 1s 761ms/step\n",
      "1/1 [==============================] - 1s 759ms/step\n"
     ]
    },
    {
     "name": "stderr",
     "output_type": "stream",
     "text": [
      "/home/ricardino/anaconda3/envs/misa_final/lib/python3.9/site-packages/voxelmorph/tf/networks.py:124: UserWarning: int_downsize is deprecated, use the int_resolution parameter.\n",
      "  warnings.warn('int_downsize is deprecated, use the int_resolution parameter.')\n",
      "/home/ricardino/anaconda3/envs/misa_final/lib/python3.9/site-packages/voxelmorph/tf/networks.py:129: UserWarning: unet_half_res is deprecated, use the svf_resolution parameter.\n",
      "  warnings.warn('unet_half_res is deprecated, use the svf_resolution parameter.')\n"
     ]
    },
    {
     "name": "stdout",
     "output_type": "stream",
     "text": [
      "1/1 [==============================] - 4s 4s/step\n",
      "1/1 [==============================] - 1s 751ms/step\n",
      "1/1 [==============================] - 1s 746ms/step\n"
     ]
    },
    {
     "name": "stderr",
     "output_type": "stream",
     "text": [
      "/home/ricardino/anaconda3/envs/misa_final/lib/python3.9/site-packages/voxelmorph/tf/networks.py:124: UserWarning: int_downsize is deprecated, use the int_resolution parameter.\n",
      "  warnings.warn('int_downsize is deprecated, use the int_resolution parameter.')\n",
      "/home/ricardino/anaconda3/envs/misa_final/lib/python3.9/site-packages/voxelmorph/tf/networks.py:129: UserWarning: unet_half_res is deprecated, use the svf_resolution parameter.\n",
      "  warnings.warn('unet_half_res is deprecated, use the svf_resolution parameter.')\n"
     ]
    },
    {
     "name": "stdout",
     "output_type": "stream",
     "text": [
      "1/1 [==============================] - 4s 4s/step\n",
      "1/1 [==============================] - 1s 761ms/step\n",
      "1/1 [==============================] - 1s 756ms/step\n"
     ]
    },
    {
     "name": "stderr",
     "output_type": "stream",
     "text": [
      "/home/ricardino/anaconda3/envs/misa_final/lib/python3.9/site-packages/voxelmorph/tf/networks.py:124: UserWarning: int_downsize is deprecated, use the int_resolution parameter.\n",
      "  warnings.warn('int_downsize is deprecated, use the int_resolution parameter.')\n",
      "/home/ricardino/anaconda3/envs/misa_final/lib/python3.9/site-packages/voxelmorph/tf/networks.py:129: UserWarning: unet_half_res is deprecated, use the svf_resolution parameter.\n",
      "  warnings.warn('unet_half_res is deprecated, use the svf_resolution parameter.')\n"
     ]
    },
    {
     "name": "stdout",
     "output_type": "stream",
     "text": [
      "1/1 [==============================] - 4s 4s/step\n",
      "1/1 [==============================] - 1s 764ms/step\n",
      "1/1 [==============================] - 1s 785ms/step\n"
     ]
    },
    {
     "name": "stderr",
     "output_type": "stream",
     "text": [
      "/home/ricardino/anaconda3/envs/misa_final/lib/python3.9/site-packages/voxelmorph/tf/networks.py:124: UserWarning: int_downsize is deprecated, use the int_resolution parameter.\n",
      "  warnings.warn('int_downsize is deprecated, use the int_resolution parameter.')\n",
      "/home/ricardino/anaconda3/envs/misa_final/lib/python3.9/site-packages/voxelmorph/tf/networks.py:129: UserWarning: unet_half_res is deprecated, use the svf_resolution parameter.\n",
      "  warnings.warn('unet_half_res is deprecated, use the svf_resolution parameter.')\n"
     ]
    },
    {
     "name": "stdout",
     "output_type": "stream",
     "text": [
      "1/1 [==============================] - 4s 4s/step\n",
      "1/1 [==============================] - 1s 757ms/step\n",
      "1/1 [==============================] - 1s 765ms/step\n"
     ]
    },
    {
     "name": "stderr",
     "output_type": "stream",
     "text": [
      "/home/ricardino/anaconda3/envs/misa_final/lib/python3.9/site-packages/voxelmorph/tf/networks.py:124: UserWarning: int_downsize is deprecated, use the int_resolution parameter.\n",
      "  warnings.warn('int_downsize is deprecated, use the int_resolution parameter.')\n",
      "/home/ricardino/anaconda3/envs/misa_final/lib/python3.9/site-packages/voxelmorph/tf/networks.py:129: UserWarning: unet_half_res is deprecated, use the svf_resolution parameter.\n",
      "  warnings.warn('unet_half_res is deprecated, use the svf_resolution parameter.')\n"
     ]
    },
    {
     "name": "stdout",
     "output_type": "stream",
     "text": [
      "1/1 [==============================] - 4s 4s/step\n",
      "1/1 [==============================] - 1s 768ms/step\n",
      "1/1 [==============================] - 1s 765ms/step\n"
     ]
    },
    {
     "name": "stderr",
     "output_type": "stream",
     "text": [
      "/home/ricardino/anaconda3/envs/misa_final/lib/python3.9/site-packages/voxelmorph/tf/networks.py:124: UserWarning: int_downsize is deprecated, use the int_resolution parameter.\n",
      "  warnings.warn('int_downsize is deprecated, use the int_resolution parameter.')\n",
      "/home/ricardino/anaconda3/envs/misa_final/lib/python3.9/site-packages/voxelmorph/tf/networks.py:129: UserWarning: unet_half_res is deprecated, use the svf_resolution parameter.\n",
      "  warnings.warn('unet_half_res is deprecated, use the svf_resolution parameter.')\n"
     ]
    },
    {
     "name": "stdout",
     "output_type": "stream",
     "text": [
      "1/1 [==============================] - 4s 4s/step\n",
      "1/1 [==============================] - 1s 761ms/step\n",
      "1/1 [==============================] - 1s 773ms/step\n"
     ]
    },
    {
     "name": "stderr",
     "output_type": "stream",
     "text": [
      "/home/ricardino/anaconda3/envs/misa_final/lib/python3.9/site-packages/voxelmorph/tf/networks.py:124: UserWarning: int_downsize is deprecated, use the int_resolution parameter.\n",
      "  warnings.warn('int_downsize is deprecated, use the int_resolution parameter.')\n",
      "/home/ricardino/anaconda3/envs/misa_final/lib/python3.9/site-packages/voxelmorph/tf/networks.py:129: UserWarning: unet_half_res is deprecated, use the svf_resolution parameter.\n",
      "  warnings.warn('unet_half_res is deprecated, use the svf_resolution parameter.')\n"
     ]
    },
    {
     "name": "stdout",
     "output_type": "stream",
     "text": [
      "1/1 [==============================] - 4s 4s/step\n",
      "1/1 [==============================] - 1s 762ms/step\n",
      "1/1 [==============================] - 1s 744ms/step\n"
     ]
    },
    {
     "name": "stderr",
     "output_type": "stream",
     "text": [
      "100%|██████████| 10/10 [01:34<00:00,  9.41s/it]\n",
      " 80%|████████  | 4/5 [06:17<01:34, 94.24s/it]/home/ricardino/anaconda3/envs/misa_final/lib/python3.9/site-packages/voxelmorph/tf/networks.py:124: UserWarning: int_downsize is deprecated, use the int_resolution parameter.\n",
      "  warnings.warn('int_downsize is deprecated, use the int_resolution parameter.')\n",
      "/home/ricardino/anaconda3/envs/misa_final/lib/python3.9/site-packages/voxelmorph/tf/networks.py:129: UserWarning: unet_half_res is deprecated, use the svf_resolution parameter.\n",
      "  warnings.warn('unet_half_res is deprecated, use the svf_resolution parameter.')\n"
     ]
    },
    {
     "name": "stdout",
     "output_type": "stream",
     "text": [
      "1/1 [==============================] - 4s 4s/step\n",
      "1/1 [==============================] - 1s 738ms/step\n",
      "1/1 [==============================] - 1s 754ms/step\n"
     ]
    },
    {
     "name": "stderr",
     "output_type": "stream",
     "text": [
      "/home/ricardino/anaconda3/envs/misa_final/lib/python3.9/site-packages/voxelmorph/tf/networks.py:124: UserWarning: int_downsize is deprecated, use the int_resolution parameter.\n",
      "  warnings.warn('int_downsize is deprecated, use the int_resolution parameter.')\n",
      "/home/ricardino/anaconda3/envs/misa_final/lib/python3.9/site-packages/voxelmorph/tf/networks.py:129: UserWarning: unet_half_res is deprecated, use the svf_resolution parameter.\n",
      "  warnings.warn('unet_half_res is deprecated, use the svf_resolution parameter.')\n"
     ]
    },
    {
     "name": "stdout",
     "output_type": "stream",
     "text": [
      "1/1 [==============================] - 4s 4s/step\n",
      "1/1 [==============================] - 1s 745ms/step\n",
      "1/1 [==============================] - 1s 744ms/step\n"
     ]
    },
    {
     "name": "stderr",
     "output_type": "stream",
     "text": [
      "/home/ricardino/anaconda3/envs/misa_final/lib/python3.9/site-packages/voxelmorph/tf/networks.py:124: UserWarning: int_downsize is deprecated, use the int_resolution parameter.\n",
      "  warnings.warn('int_downsize is deprecated, use the int_resolution parameter.')\n",
      "/home/ricardino/anaconda3/envs/misa_final/lib/python3.9/site-packages/voxelmorph/tf/networks.py:129: UserWarning: unet_half_res is deprecated, use the svf_resolution parameter.\n",
      "  warnings.warn('unet_half_res is deprecated, use the svf_resolution parameter.')\n"
     ]
    },
    {
     "name": "stdout",
     "output_type": "stream",
     "text": [
      "1/1 [==============================] - 5s 5s/step\n",
      "1/1 [==============================] - 1s 783ms/step\n",
      "1/1 [==============================] - 1s 791ms/step\n"
     ]
    },
    {
     "name": "stderr",
     "output_type": "stream",
     "text": [
      "/home/ricardino/anaconda3/envs/misa_final/lib/python3.9/site-packages/voxelmorph/tf/networks.py:124: UserWarning: int_downsize is deprecated, use the int_resolution parameter.\n",
      "  warnings.warn('int_downsize is deprecated, use the int_resolution parameter.')\n",
      "/home/ricardino/anaconda3/envs/misa_final/lib/python3.9/site-packages/voxelmorph/tf/networks.py:129: UserWarning: unet_half_res is deprecated, use the svf_resolution parameter.\n",
      "  warnings.warn('unet_half_res is deprecated, use the svf_resolution parameter.')\n"
     ]
    },
    {
     "name": "stdout",
     "output_type": "stream",
     "text": [
      "1/1 [==============================] - 4s 4s/step\n",
      "1/1 [==============================] - 1s 789ms/step\n",
      "1/1 [==============================] - 1s 778ms/step\n"
     ]
    },
    {
     "name": "stderr",
     "output_type": "stream",
     "text": [
      "/home/ricardino/anaconda3/envs/misa_final/lib/python3.9/site-packages/voxelmorph/tf/networks.py:124: UserWarning: int_downsize is deprecated, use the int_resolution parameter.\n",
      "  warnings.warn('int_downsize is deprecated, use the int_resolution parameter.')\n",
      "/home/ricardino/anaconda3/envs/misa_final/lib/python3.9/site-packages/voxelmorph/tf/networks.py:129: UserWarning: unet_half_res is deprecated, use the svf_resolution parameter.\n",
      "  warnings.warn('unet_half_res is deprecated, use the svf_resolution parameter.')\n"
     ]
    },
    {
     "name": "stdout",
     "output_type": "stream",
     "text": [
      "1/1 [==============================] - 4s 4s/step\n",
      "1/1 [==============================] - 1s 762ms/step\n",
      "1/1 [==============================] - 1s 777ms/step\n"
     ]
    },
    {
     "name": "stderr",
     "output_type": "stream",
     "text": [
      "/home/ricardino/anaconda3/envs/misa_final/lib/python3.9/site-packages/voxelmorph/tf/networks.py:124: UserWarning: int_downsize is deprecated, use the int_resolution parameter.\n",
      "  warnings.warn('int_downsize is deprecated, use the int_resolution parameter.')\n",
      "/home/ricardino/anaconda3/envs/misa_final/lib/python3.9/site-packages/voxelmorph/tf/networks.py:129: UserWarning: unet_half_res is deprecated, use the svf_resolution parameter.\n",
      "  warnings.warn('unet_half_res is deprecated, use the svf_resolution parameter.')\n"
     ]
    },
    {
     "name": "stdout",
     "output_type": "stream",
     "text": [
      "1/1 [==============================] - 4s 4s/step\n",
      "1/1 [==============================] - 1s 770ms/step\n",
      "1/1 [==============================] - 1s 753ms/step\n"
     ]
    },
    {
     "name": "stderr",
     "output_type": "stream",
     "text": [
      "/home/ricardino/anaconda3/envs/misa_final/lib/python3.9/site-packages/voxelmorph/tf/networks.py:124: UserWarning: int_downsize is deprecated, use the int_resolution parameter.\n",
      "  warnings.warn('int_downsize is deprecated, use the int_resolution parameter.')\n",
      "/home/ricardino/anaconda3/envs/misa_final/lib/python3.9/site-packages/voxelmorph/tf/networks.py:129: UserWarning: unet_half_res is deprecated, use the svf_resolution parameter.\n",
      "  warnings.warn('unet_half_res is deprecated, use the svf_resolution parameter.')\n"
     ]
    },
    {
     "name": "stdout",
     "output_type": "stream",
     "text": [
      "1/1 [==============================] - 4s 4s/step\n",
      "1/1 [==============================] - 1s 748ms/step\n",
      "1/1 [==============================] - 1s 739ms/step\n"
     ]
    },
    {
     "name": "stderr",
     "output_type": "stream",
     "text": [
      "/home/ricardino/anaconda3/envs/misa_final/lib/python3.9/site-packages/voxelmorph/tf/networks.py:124: UserWarning: int_downsize is deprecated, use the int_resolution parameter.\n",
      "  warnings.warn('int_downsize is deprecated, use the int_resolution parameter.')\n",
      "/home/ricardino/anaconda3/envs/misa_final/lib/python3.9/site-packages/voxelmorph/tf/networks.py:129: UserWarning: unet_half_res is deprecated, use the svf_resolution parameter.\n",
      "  warnings.warn('unet_half_res is deprecated, use the svf_resolution parameter.')\n"
     ]
    },
    {
     "name": "stdout",
     "output_type": "stream",
     "text": [
      "1/1 [==============================] - 4s 4s/step\n",
      "1/1 [==============================] - 1s 797ms/step\n",
      "1/1 [==============================] - 1s 836ms/step\n"
     ]
    },
    {
     "name": "stderr",
     "output_type": "stream",
     "text": [
      "/home/ricardino/anaconda3/envs/misa_final/lib/python3.9/site-packages/voxelmorph/tf/networks.py:124: UserWarning: int_downsize is deprecated, use the int_resolution parameter.\n",
      "  warnings.warn('int_downsize is deprecated, use the int_resolution parameter.')\n",
      "/home/ricardino/anaconda3/envs/misa_final/lib/python3.9/site-packages/voxelmorph/tf/networks.py:129: UserWarning: unet_half_res is deprecated, use the svf_resolution parameter.\n",
      "  warnings.warn('unet_half_res is deprecated, use the svf_resolution parameter.')\n"
     ]
    },
    {
     "name": "stdout",
     "output_type": "stream",
     "text": [
      "1/1 [==============================] - 5s 5s/step\n",
      "1/1 [==============================] - 1s 754ms/step\n",
      "1/1 [==============================] - 1s 762ms/step\n"
     ]
    },
    {
     "name": "stderr",
     "output_type": "stream",
     "text": [
      "/home/ricardino/anaconda3/envs/misa_final/lib/python3.9/site-packages/voxelmorph/tf/networks.py:124: UserWarning: int_downsize is deprecated, use the int_resolution parameter.\n",
      "  warnings.warn('int_downsize is deprecated, use the int_resolution parameter.')\n",
      "/home/ricardino/anaconda3/envs/misa_final/lib/python3.9/site-packages/voxelmorph/tf/networks.py:129: UserWarning: unet_half_res is deprecated, use the svf_resolution parameter.\n",
      "  warnings.warn('unet_half_res is deprecated, use the svf_resolution parameter.')\n"
     ]
    },
    {
     "name": "stdout",
     "output_type": "stream",
     "text": [
      "1/1 [==============================] - 4s 4s/step\n",
      "1/1 [==============================] - 1s 769ms/step\n",
      "1/1 [==============================] - 1s 801ms/step\n"
     ]
    },
    {
     "name": "stderr",
     "output_type": "stream",
     "text": [
      "100%|██████████| 10/10 [01:36<00:00,  9.62s/it]\n",
      "100%|██████████| 5/5 [07:53<00:00, 94.79s/it]\n"
     ]
    }
   ],
   "source": [
    "#define datasets\n",
    "im_data_train = ImageDataset(set_name='Training')\n",
    "im_data_val = ImageDataset(set_name='Validation')\n",
    "\n",
    "\n",
    "for id_val in tqdm(im_data_val.IDs):\n",
    "    #define dataframe to save results\n",
    "    df_val = None\n",
    "    for id_train in tqdm(im_data_train.IDs):\n",
    "        #Moving image\n",
    "        #id_train = im_data_train.IDs[5]\n",
    "        pat_train = patient(id_train, im_data_train)\n",
    "        moving_path = pat_train.im_path_norm\n",
    "        label_path = pat_train.labels_path\n",
    "\n",
    "        #Fixed image\n",
    "        #id_val = im_data_val.IDs[0]\n",
    "        pat_val = patient(id_val, im_data_val)\n",
    "        fixed_path = pat_val.im_path_norm\n",
    "        ground_truth = pat_val.labels(format='np')\n",
    "\n",
    "        #register using voxelmorph\n",
    "        moved, moved_label, warp, fixed_affine = voxmorph_register(fixed_path, moving_path, label_path)\n",
    "\n",
    "        # save moved image and label\n",
    "        moved_path = str(repo_path / f'data/voxelmorph/moved_{id_train}_to_{id_val}.nii.gz')\n",
    "        moved_label_path = str(repo_path / f'data/voxelmorph/moved_labels_{id_train}_to_{id_val}.nii.gz')\n",
    "        vxm.py.utils.save_volfile(moved.squeeze(), moved_path, fixed_affine)\n",
    "        vxm.py.utils.save_volfile(np.rint(moved_label.squeeze()), moved_label_path, fixed_affine)\n",
    "\n",
    "        #compute metric\n",
    "        metric = compute_maattesMI(moved_path, fixed_path)\n",
    "        #compute dice\n",
    "        new_label = sitk.GetArrayFromImage(sitk.ReadImage(moved_label_path))\n",
    "        dice = [utils.dice_score(new_label==tissue,ground_truth==tissue) for tissue in range(1,4)]\n",
    "        #save in dataframe. Columns are dice CSF, dice GM, dice WM, metric\n",
    "        df = pd.DataFrame([[id_train] + dice+[metric]], columns=['id_train', 'CSF', 'GM', 'WM', 'metric'])\n",
    "        #concatenate with previous results\n",
    "        df_val = pd.concat([df_val, df], ignore_index=True)\n",
    "    #arange in descending order (most negative metric is the best)\n",
    "    df_val = df_val.sort_values(by='metric', ascending=True)\n",
    "    #save dataframe\n",
    "    df_val.to_csv(str(repo_path / f'data/results/most_similar/most_similar_{id_val}.csv'), index=False)"
   ]
  },
  {
   "cell_type": "code",
   "execution_count": 15,
   "metadata": {},
   "outputs": [],
   "source": [
    "#Now we get the first line of each dataframe, which is the most similar label propagation\n",
    "df_most_similar = None\n",
    "for id_val in im_data_val.IDs:\n",
    "    csv_path = str(repo_path / f'data/results/most_similar/most_similar_{id_val}.csv')\n",
    "    #read csv\n",
    "    df = pd.read_csv(csv_path, dtype={'id_train': str})\n",
    "    #add id_val to dataframe at the beginning\n",
    "    df.insert(0, 'id_val', id_val)\n",
    "    #concatenate with previous results\n",
    "    df_most_similar = pd.concat([df_most_similar, df.iloc[[0]]], ignore_index=True)\n",
    "#save dataframe\n",
    "df_most_similar.to_csv(str(repo_path / f'data/results/most_similar_dice.csv'), index=False)"
   ]
  },
  {
   "attachments": {},
   "cell_type": "markdown",
   "metadata": {},
   "source": [
    "Adding the other two main metrics, we have to check the results for the selected most similar atlas."
   ]
  },
  {
   "cell_type": "code",
   "execution_count": 24,
   "metadata": {},
   "outputs": [],
   "source": [
    "#open dataset validation\n",
    "im_data_val = ImageDataset(set_name='Validation')\n",
    "\n",
    "df_mostSimilar_metrics = None\n",
    "#open the most similar dataframe\n",
    "df_most_similar = pd.read_csv(str(repo_path / f'data/results/most_similar_dice.csv'), dtype={'id_val':str, 'id_train':str})\n",
    "for id_val, id_train in zip(df_most_similar['id_val'], df_most_similar['id_train']):\n",
    "    pat_val  = patient(id_val, im_data_val)\n",
    "    #open segmentation\n",
    "    seg_path = repo_path / 'data'/'voxelmorph'/f'moved_labels_{id_train}_to_{id_val}.nii.gz'\n",
    "    seg = utils.getArrayfromPath(seg_path)\n",
    "    #open ground truth\n",
    "    gTruth = pat_val.labels(format='np')\n",
    "    #compute the metrics\n",
    "    df_metrics = utils.compute_metrics(seg, pat_val, id_val)\n",
    "    #concatenate in df_bayesian\n",
    "    df_mostSimilar_metrics = pd.concat([df_mostSimilar_metrics, df_metrics], axis=0)\n",
    "#save as csv\n",
    "df_mostSimilar_metrics.to_csv(str(repo_path / f'data/results/most_similar_metrics.csv'), index=False)"
   ]
  }
 ],
 "metadata": {
  "kernelspec": {
   "display_name": "misa_final",
   "language": "python",
   "name": "python3"
  },
  "language_info": {
   "codemirror_mode": {
    "name": "ipython",
    "version": 3
   },
   "file_extension": ".py",
   "mimetype": "text/x-python",
   "name": "python",
   "nbconvert_exporter": "python",
   "pygments_lexer": "ipython3",
   "version": "3.9.15"
  },
  "orig_nbformat": 4,
  "vscode": {
   "interpreter": {
    "hash": "cff243af6c3d0a2893d2e87262cea0e9d750ffc752eaeb95474b08792ecfb50d"
   }
  }
 },
 "nbformat": 4,
 "nbformat_minor": 2
}
