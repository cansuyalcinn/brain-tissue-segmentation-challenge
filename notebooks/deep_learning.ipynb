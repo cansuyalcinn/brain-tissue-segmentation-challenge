{
 "cells": [
  {
   "cell_type": "code",
   "execution_count": 7,
   "metadata": {},
   "outputs": [],
   "source": [
    "from pathlib import Path\n",
    "import utils\n",
    "from metadata import patient, ImageDataset\n",
    "import pandas as pd"
   ]
  },
  {
   "cell_type": "code",
   "execution_count": 3,
   "metadata": {},
   "outputs": [
    {
     "name": "stdout",
     "output_type": "stream",
     "text": [
      "The current directory is: /home/ricardino/Documents/MAIA/tercer_semestre/MISA/final_project/MISA_FINAL_PROJECT/notebooks\n"
     ]
    }
   ],
   "source": [
    "notebooks_path = Path.cwd()\n",
    "repo_path = notebooks_path.parent\n",
    "print(f'The current directory is: {notebooks_path}')"
   ]
  },
  {
   "attachments": {},
   "cell_type": "markdown",
   "metadata": {},
   "source": [
    "# MAIN\n",
    "- Compute the metrics for the Deep learning segmentations"
   ]
  },
  {
   "cell_type": "code",
   "execution_count": 12,
   "metadata": {},
   "outputs": [],
   "source": [
    "#open dataset validation\n",
    "im_data_val = ImageDataset(set_name='Validation')\n",
    "\n",
    "#Deep learning parameters\n",
    "net_list = ['DenseUnet', 'ResUnet', 'unet']\n",
    "loss_list = ['CE', 'DL', 'FL']\n",
    "loss = 'CE'\n",
    "\n",
    "for net in net_list:\n",
    "    for loss in loss_list:\n",
    "                \n",
    "        df_network = None\n",
    "        for id_val in im_data_val.IDs:\n",
    "            #define patient\n",
    "            pat_val = patient(id_val, im_data_val)\n",
    "            #open segmentation\n",
    "            seg_path = repo_path / 'data' / 'segmentations' / f'our_{net}_segmentation_IBSR_{id_val}_{loss}.nii.gz'\n",
    "            seg = utils.getArrayfromPath(seg_path)\n",
    "            #get metrics\n",
    "            df_metrics = utils.compute_metrics(seg, pat_val, id_val)\n",
    "            #concatenate in df_network\n",
    "            df_network = pd.concat([df_network, df_metrics], axis=0)\n",
    "        #save as csv\n",
    "        df_network.to_csv(repo_path / 'data' / 'results' / f'{net}_{loss}_metrics.csv')"
   ]
  }
 ],
 "metadata": {
  "kernelspec": {
   "display_name": "misa_final",
   "language": "python",
   "name": "python3"
  },
  "language_info": {
   "codemirror_mode": {
    "name": "ipython",
    "version": 3
   },
   "file_extension": ".py",
   "mimetype": "text/x-python",
   "name": "python",
   "nbconvert_exporter": "python",
   "pygments_lexer": "ipython3",
   "version": "3.9.15 (main, Nov 24 2022, 14:31:59) \n[GCC 11.2.0]"
  },
  "orig_nbformat": 4,
  "vscode": {
   "interpreter": {
    "hash": "cff243af6c3d0a2893d2e87262cea0e9d750ffc752eaeb95474b08792ecfb50d"
   }
  }
 },
 "nbformat": 4,
 "nbformat_minor": 2
}
