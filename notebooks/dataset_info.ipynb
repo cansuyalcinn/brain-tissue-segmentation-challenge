{
 "cells": [
  {
   "attachments": {},
   "cell_type": "markdown",
   "metadata": {},
   "source": [
    "# Libraries"
   ]
  },
  {
   "cell_type": "code",
   "execution_count": 1,
   "metadata": {},
   "outputs": [],
   "source": [
    "from pathlib import Path\n",
    "import pandas as pd\n",
    "import SimpleITK as sitk\n",
    "import matplotlib.pyplot as plt\n",
    "\n",
    "from metadata import ImageDataset, patient"
   ]
  },
  {
   "cell_type": "code",
   "execution_count": 2,
   "metadata": {},
   "outputs": [
    {
     "name": "stdout",
     "output_type": "stream",
     "text": [
      "The current directory is: /home/ricardino/Documents/MAIA/tercer_semestre/MISA/final_project/MISA_FINAL_PROJECT/notebooks\n"
     ]
    }
   ],
   "source": [
    "notebook_path = Path().cwd()\n",
    "repo_path = notebook_path.parent\n",
    "print(f'The current directory is: {notebook_path}')"
   ]
  },
  {
   "attachments": {},
   "cell_type": "markdown",
   "metadata": {},
   "source": [
    "# Main"
   ]
  },
  {
   "attachments": {},
   "cell_type": "markdown",
   "metadata": {},
   "source": [
    "## Creating a metadata csv file"
   ]
  },
  {
   "cell_type": "code",
   "execution_count": 3,
   "metadata": {},
   "outputs": [],
   "source": [
    "def sets_IDS(set_name:str):\n",
    "    \"\"\"Get paths and IDs of patient in different matched lists\n",
    "\n",
    "    Args:\n",
    "        set_name (str): Training, Validation or Test\n",
    "\n",
    "    Returns:\n",
    "        lists: folder, ID lists and ID int list\n",
    "    \"\"\"\n",
    "        \n",
    "    set_path = Path(repo_path / f'data/{set_name}_Set')\n",
    "    # We get the subfolders name in each data folder\n",
    "    folders_list = [f.relative_to(repo_path) for f in set_path.iterdir() if f.is_dir()]\n",
    "    ID_list  = [(x.stem[-2:]) for x in folders_list] #Get patient number\n",
    "    ID_int_list = [int(x) for x in ID_list]\n",
    "    \n",
    "    df = pd.DataFrame( #create dataframe with relevant information\n",
    "    {\n",
    "        'ID' : ID_list,\n",
    "        'ID_int': ID_int_list,\n",
    "        'folder_path': folders_list,\n",
    "        'set_name': f'{set_name}'\n",
    "    }\n",
    ")\n",
    "    df.sort_values(by=['ID_int'], inplace=True) #sort by ID_int\n",
    "    #remove ID_int column\n",
    "    df.drop(columns=['ID_int'], inplace=True)\n",
    "    \n",
    "    return df.reset_index(drop=True)"
   ]
  },
  {
   "attachments": {},
   "cell_type": "markdown",
   "metadata": {},
   "source": [
    "First, we create the csv file with the metadata of the dataset. We will use this file every time we need to access data for each patient."
   ]
  },
  {
   "cell_type": "code",
   "execution_count": 4,
   "metadata": {},
   "outputs": [
    {
     "data": {
      "text/html": [
       "<div>\n",
       "<style scoped>\n",
       "    .dataframe tbody tr th:only-of-type {\n",
       "        vertical-align: middle;\n",
       "    }\n",
       "\n",
       "    .dataframe tbody tr th {\n",
       "        vertical-align: top;\n",
       "    }\n",
       "\n",
       "    .dataframe thead th {\n",
       "        text-align: right;\n",
       "    }\n",
       "</style>\n",
       "<table border=\"1\" class=\"dataframe\">\n",
       "  <thead>\n",
       "    <tr style=\"text-align: right;\">\n",
       "      <th></th>\n",
       "      <th>ID</th>\n",
       "      <th>folder_path</th>\n",
       "      <th>set_name</th>\n",
       "    </tr>\n",
       "  </thead>\n",
       "  <tbody>\n",
       "    <tr>\n",
       "      <th>0</th>\n",
       "      <td>01</td>\n",
       "      <td>data/Training_Set/IBSR_01</td>\n",
       "      <td>Training</td>\n",
       "    </tr>\n",
       "    <tr>\n",
       "      <th>1</th>\n",
       "      <td>03</td>\n",
       "      <td>data/Training_Set/IBSR_03</td>\n",
       "      <td>Training</td>\n",
       "    </tr>\n",
       "    <tr>\n",
       "      <th>2</th>\n",
       "      <td>04</td>\n",
       "      <td>data/Training_Set/IBSR_04</td>\n",
       "      <td>Training</td>\n",
       "    </tr>\n",
       "    <tr>\n",
       "      <th>3</th>\n",
       "      <td>05</td>\n",
       "      <td>data/Training_Set/IBSR_05</td>\n",
       "      <td>Training</td>\n",
       "    </tr>\n",
       "    <tr>\n",
       "      <th>4</th>\n",
       "      <td>06</td>\n",
       "      <td>data/Training_Set/IBSR_06</td>\n",
       "      <td>Training</td>\n",
       "    </tr>\n",
       "    <tr>\n",
       "      <th>5</th>\n",
       "      <td>07</td>\n",
       "      <td>data/Training_Set/IBSR_07</td>\n",
       "      <td>Training</td>\n",
       "    </tr>\n",
       "    <tr>\n",
       "      <th>6</th>\n",
       "      <td>08</td>\n",
       "      <td>data/Training_Set/IBSR_08</td>\n",
       "      <td>Training</td>\n",
       "    </tr>\n",
       "    <tr>\n",
       "      <th>7</th>\n",
       "      <td>09</td>\n",
       "      <td>data/Training_Set/IBSR_09</td>\n",
       "      <td>Training</td>\n",
       "    </tr>\n",
       "    <tr>\n",
       "      <th>8</th>\n",
       "      <td>16</td>\n",
       "      <td>data/Training_Set/IBSR_16</td>\n",
       "      <td>Training</td>\n",
       "    </tr>\n",
       "    <tr>\n",
       "      <th>9</th>\n",
       "      <td>18</td>\n",
       "      <td>data/Training_Set/IBSR_18</td>\n",
       "      <td>Training</td>\n",
       "    </tr>\n",
       "    <tr>\n",
       "      <th>10</th>\n",
       "      <td>11</td>\n",
       "      <td>data/Validation_Set/IBSR_11</td>\n",
       "      <td>Validation</td>\n",
       "    </tr>\n",
       "    <tr>\n",
       "      <th>11</th>\n",
       "      <td>12</td>\n",
       "      <td>data/Validation_Set/IBSR_12</td>\n",
       "      <td>Validation</td>\n",
       "    </tr>\n",
       "    <tr>\n",
       "      <th>12</th>\n",
       "      <td>13</td>\n",
       "      <td>data/Validation_Set/IBSR_13</td>\n",
       "      <td>Validation</td>\n",
       "    </tr>\n",
       "    <tr>\n",
       "      <th>13</th>\n",
       "      <td>14</td>\n",
       "      <td>data/Validation_Set/IBSR_14</td>\n",
       "      <td>Validation</td>\n",
       "    </tr>\n",
       "    <tr>\n",
       "      <th>14</th>\n",
       "      <td>17</td>\n",
       "      <td>data/Validation_Set/IBSR_17</td>\n",
       "      <td>Validation</td>\n",
       "    </tr>\n",
       "    <tr>\n",
       "      <th>15</th>\n",
       "      <td>02</td>\n",
       "      <td>data/Test_Set/IBSR_02</td>\n",
       "      <td>Test</td>\n",
       "    </tr>\n",
       "    <tr>\n",
       "      <th>16</th>\n",
       "      <td>10</td>\n",
       "      <td>data/Test_Set/IBSR_10</td>\n",
       "      <td>Test</td>\n",
       "    </tr>\n",
       "    <tr>\n",
       "      <th>17</th>\n",
       "      <td>15</td>\n",
       "      <td>data/Test_Set/IBSR_15</td>\n",
       "      <td>Test</td>\n",
       "    </tr>\n",
       "  </tbody>\n",
       "</table>\n",
       "</div>"
      ],
      "text/plain": [
       "    ID                  folder_path    set_name\n",
       "0   01    data/Training_Set/IBSR_01    Training\n",
       "1   03    data/Training_Set/IBSR_03    Training\n",
       "2   04    data/Training_Set/IBSR_04    Training\n",
       "3   05    data/Training_Set/IBSR_05    Training\n",
       "4   06    data/Training_Set/IBSR_06    Training\n",
       "5   07    data/Training_Set/IBSR_07    Training\n",
       "6   08    data/Training_Set/IBSR_08    Training\n",
       "7   09    data/Training_Set/IBSR_09    Training\n",
       "8   16    data/Training_Set/IBSR_16    Training\n",
       "9   18    data/Training_Set/IBSR_18    Training\n",
       "10  11  data/Validation_Set/IBSR_11  Validation\n",
       "11  12  data/Validation_Set/IBSR_12  Validation\n",
       "12  13  data/Validation_Set/IBSR_13  Validation\n",
       "13  14  data/Validation_Set/IBSR_14  Validation\n",
       "14  17  data/Validation_Set/IBSR_17  Validation\n",
       "15  02        data/Test_Set/IBSR_02        Test\n",
       "16  10        data/Test_Set/IBSR_10        Test\n",
       "17  15        data/Test_Set/IBSR_15        Test"
      ]
     },
     "execution_count": 4,
     "metadata": {},
     "output_type": "execute_result"
    }
   ],
   "source": [
    "#Create dataframe with all the images information\n",
    "info_images = pd.concat([sets_IDS('Training'), sets_IDS('Validation'), sets_IDS('Test')]).reset_index(drop=True)\n",
    "#save as csv file\n",
    "info_images.to_csv(repo_path / 'data/info_images.csv', index=False)\n",
    "info_images"
   ]
  },
  {
   "attachments": {},
   "cell_type": "markdown",
   "metadata": {},
   "source": [
    "## How to use ImageDataset and patient classes?"
   ]
  },
  {
   "cell_type": "code",
   "execution_count": 5,
   "metadata": {},
   "outputs": [
    {
     "name": "stdout",
     "output_type": "stream",
     "text": [
      "len: 10\n",
      "all ids: ['01', '03', '04', '05', '06', '07', '08', '09', '16', '18']\n",
      "images paths: ['data/Training_Set/IBSR_01/IBSR_01.nii.gz', 'data/Training_Set/IBSR_03/IBSR_03.nii.gz', 'data/Training_Set/IBSR_04/IBSR_04.nii.gz', 'data/Training_Set/IBSR_05/IBSR_05.nii.gz', 'data/Training_Set/IBSR_06/IBSR_06.nii.gz', 'data/Training_Set/IBSR_07/IBSR_07.nii.gz', 'data/Training_Set/IBSR_08/IBSR_08.nii.gz', 'data/Training_Set/IBSR_09/IBSR_09.nii.gz', 'data/Training_Set/IBSR_16/IBSR_16.nii.gz', 'data/Training_Set/IBSR_18/IBSR_18.nii.gz']\n",
      "images paths: ['data/Training_Set/IBSR_01/IBSR_01_seg.nii.gz', 'data/Training_Set/IBSR_03/IBSR_03_seg.nii.gz', 'data/Training_Set/IBSR_04/IBSR_04_seg.nii.gz', 'data/Training_Set/IBSR_05/IBSR_05_seg.nii.gz', 'data/Training_Set/IBSR_06/IBSR_06_seg.nii.gz', 'data/Training_Set/IBSR_07/IBSR_07_seg.nii.gz', 'data/Training_Set/IBSR_08/IBSR_08_seg.nii.gz', 'data/Training_Set/IBSR_09/IBSR_09_seg.nii.gz', 'data/Training_Set/IBSR_16/IBSR_16_seg.nii.gz', 'data/Training_Set/IBSR_18/IBSR_18_seg.nii.gz']\n"
     ]
    }
   ],
   "source": [
    "#instantiate dataset, specify set name\n",
    "im_data = ImageDataset('Training')\n",
    "#check length\n",
    "print(f'len: {im_data.len}')\n",
    "#get all ids (useful to iterate over all adataset)\n",
    "print(f'all ids: {im_data.IDs}')\n",
    "#get list of all images paths for training\n",
    "print(f'images paths: {im_data.im_paths()}')\n",
    "#same for the labels\n",
    "print(f'images paths: {im_data.labels_paths()}')"
   ]
  },
  {
   "cell_type": "code",
   "execution_count": 6,
   "metadata": {},
   "outputs": [
    {
     "name": "stdout",
     "output_type": "stream",
     "text": [
      "selected id: 01\n"
     ]
    },
    {
     "data": {
      "image/png": "[encoded data removed]",
      "text/plain": [
       "<Figure size 1000x1000 with 1 Axes>"
      ]
     },
     "metadata": {},
     "output_type": "display_data"
    },
    {
     "data": {
      "image/png": "[encoded data removed]",
      "text/plain": [
       "<Figure size 1000x1000 with 1 Axes>"
      ]
     },
     "metadata": {},
     "output_type": "display_data"
    }
   ],
   "source": [
    "#select one id of patient to check\n",
    "id = im_data.IDs[0]\n",
    "print(f'selected id: {id}')\n",
    "#istantiate patient object using the id and the previous ImageDataset object\n",
    "pat = patient(id, im_data)\n",
    "#You can print the image or the labels\n",
    "pat.show('labels')\n",
    "pat.show('im')"
   ]
  },
  {
   "cell_type": "code",
   "execution_count": 7,
   "metadata": {},
   "outputs": [
    {
     "data": {
      "text/plain": [
       "array([[[0, 0, 0, ..., 0, 0, 0],\n",
       "        [0, 0, 0, ..., 0, 0, 0],\n",
       "        [0, 0, 0, ..., 0, 0, 0],\n",
       "        ...,\n",
       "        [0, 0, 0, ..., 0, 0, 0],\n",
       "        [0, 0, 0, ..., 0, 0, 0],\n",
       "        [0, 0, 0, ..., 0, 0, 0]],\n",
       "\n",
       "       [[0, 0, 0, ..., 0, 0, 0],\n",
       "        [0, 0, 0, ..., 0, 0, 0],\n",
       "        [0, 0, 0, ..., 0, 0, 0],\n",
       "        ...,\n",
       "        [0, 0, 0, ..., 0, 0, 0],\n",
       "        [0, 0, 0, ..., 0, 0, 0],\n",
       "        [0, 0, 0, ..., 0, 0, 0]],\n",
       "\n",
       "       [[0, 0, 0, ..., 0, 0, 0],\n",
       "        [0, 0, 0, ..., 0, 0, 0],\n",
       "        [0, 0, 0, ..., 0, 0, 0],\n",
       "        ...,\n",
       "        [0, 0, 0, ..., 0, 0, 0],\n",
       "        [0, 0, 0, ..., 0, 0, 0],\n",
       "        [0, 0, 0, ..., 0, 0, 0]],\n",
       "\n",
       "       ...,\n",
       "\n",
       "       [[0, 0, 0, ..., 0, 0, 0],\n",
       "        [0, 0, 0, ..., 0, 0, 0],\n",
       "        [0, 0, 0, ..., 0, 0, 0],\n",
       "        ...,\n",
       "        [0, 0, 0, ..., 0, 0, 0],\n",
       "        [0, 0, 0, ..., 0, 0, 0],\n",
       "        [0, 0, 0, ..., 0, 0, 0]],\n",
       "\n",
       "       [[0, 0, 0, ..., 0, 0, 0],\n",
       "        [0, 0, 0, ..., 0, 0, 0],\n",
       "        [0, 0, 0, ..., 0, 0, 0],\n",
       "        ...,\n",
       "        [0, 0, 0, ..., 0, 0, 0],\n",
       "        [0, 0, 0, ..., 0, 0, 0],\n",
       "        [0, 0, 0, ..., 0, 0, 0]],\n",
       "\n",
       "       [[0, 0, 0, ..., 0, 0, 0],\n",
       "        [0, 0, 0, ..., 0, 0, 0],\n",
       "        [0, 0, 0, ..., 0, 0, 0],\n",
       "        ...,\n",
       "        [0, 0, 0, ..., 0, 0, 0],\n",
       "        [0, 0, 0, ..., 0, 0, 0],\n",
       "        [0, 0, 0, ..., 0, 0, 0]]], dtype=int16)"
      ]
     },
     "execution_count": 7,
     "metadata": {},
     "output_type": "execute_result"
    }
   ],
   "source": [
    "#you can get the sitk or numpy image\n",
    "pat.im(format='sitk')\n",
    "pat.im(format='np')\n",
    "#the same for the labels\n",
    "pat.labels(format='sitk')\n",
    "pat.labels(format='np')"
   ]
  }
 ],
 "metadata": {
  "kernelspec": {
   "display_name": "misa_final",
   "language": "python",
   "name": "python3"
  },
  "language_info": {
   "codemirror_mode": {
    "name": "ipython",
    "version": 3
   },
   "file_extension": ".py",
   "mimetype": "text/x-python",
   "name": "python",
   "nbconvert_exporter": "python",
   "pygments_lexer": "ipython3",
   "version": "3.9.15 (main, Nov 24 2022, 14:31:59) \n[GCC 11.2.0]"
  },
  "orig_nbformat": 4,
  "vscode": {
   "interpreter": {
    "hash": "cff243af6c3d0a2893d2e87262cea0e9d750ffc752eaeb95474b08792ecfb50d"
   }
  }
 },
 "nbformat": 4,
 "nbformat_minor": 2
}
